{
 "cells": [
  {
   "cell_type": "code",
   "execution_count": 1,
   "metadata": {
    "vscode": {
     "languageId": "powershell"
    }
   },
   "outputs": [
    {
     "name": "stdout",
     "output_type": "stream",
     "text": [
      "Requirement already satisfied: truth-table-generator in c:\\users\\marcos serpa\\appdata\\local\\programs\\python\\python312\\lib\\site-packages (2.0.0)\n",
      "Requirement already satisfied: numpy in c:\\users\\marcos serpa\\appdata\\local\\programs\\python\\python312\\lib\\site-packages (from truth-table-generator) (2.1.2)\n",
      "Requirement already satisfied: pandas in c:\\users\\marcos serpa\\appdata\\local\\programs\\python\\python312\\lib\\site-packages (from truth-table-generator) (2.2.3)\n",
      "Requirement already satisfied: PTable in c:\\users\\marcos serpa\\appdata\\local\\programs\\python\\python312\\lib\\site-packages (from truth-table-generator) (0.9.2)\n",
      "Requirement already satisfied: pyparsing in c:\\users\\marcos serpa\\appdata\\local\\programs\\python\\python312\\lib\\site-packages (from truth-table-generator) (3.1.4)\n",
      "Requirement already satisfied: tabulate in c:\\users\\marcos serpa\\appdata\\local\\programs\\python\\python312\\lib\\site-packages (from truth-table-generator) (0.9.0)\n",
      "Requirement already satisfied: jinja2 in c:\\users\\marcos serpa\\appdata\\local\\programs\\python\\python312\\lib\\site-packages (from truth-table-generator) (3.1.4)\n",
      "Requirement already satisfied: MarkupSafe>=2.0 in c:\\users\\marcos serpa\\appdata\\local\\programs\\python\\python312\\lib\\site-packages (from jinja2->truth-table-generator) (3.0.1)\n",
      "Requirement already satisfied: python-dateutil>=2.8.2 in c:\\users\\marcos serpa\\appdata\\local\\programs\\python\\python312\\lib\\site-packages (from pandas->truth-table-generator) (2.9.0.post0)\n",
      "Requirement already satisfied: pytz>=2020.1 in c:\\users\\marcos serpa\\appdata\\local\\programs\\python\\python312\\lib\\site-packages (from pandas->truth-table-generator) (2024.2)\n",
      "Requirement already satisfied: tzdata>=2022.7 in c:\\users\\marcos serpa\\appdata\\local\\programs\\python\\python312\\lib\\site-packages (from pandas->truth-table-generator) (2024.2)\n",
      "Requirement already satisfied: six>=1.5 in c:\\users\\marcos serpa\\appdata\\local\\programs\\python\\python312\\lib\\site-packages (from python-dateutil>=2.8.2->pandas->truth-table-generator) (1.16.0)\n",
      "Note: you may need to restart the kernel to use updated packages.\n"
     ]
    }
   ],
   "source": [
    "pip install truth-table-generator"
   ]
  },
  {
   "cell_type": "code",
   "execution_count": 7,
   "metadata": {},
   "outputs": [
    {
     "name": "stdout",
     "output_type": "stream",
     "text": [
      "+-------+-------+-------+-------+-----------------------------------------+\n",
      "|   p   |   q   |   r   |   s   |  ((p => ~q) and (~r => s)) and q) => s  |\n",
      "|-------+-------+-------+-------+-----------------------------------------|\n",
      "| True  | True  | True  | True  |                  False                  |\n",
      "| True  | True  | True  | False |                  False                  |\n",
      "| True  | True  | False | True  |                  False                  |\n",
      "| True  | True  | False | False |                  False                  |\n",
      "| True  | False | True  | True  |                  False                  |\n",
      "| True  | False | True  | False |                  False                  |\n",
      "| True  | False | False | True  |                  False                  |\n",
      "| True  | False | False | False |                  False                  |\n",
      "| False | True  | True  | True  |                  True                   |\n",
      "| False | True  | True  | False |                  True                   |\n",
      "| False | True  | False | True  |                  True                   |\n",
      "| False | True  | False | False |                  False                  |\n",
      "| False | False | True  | True  |                  False                  |\n",
      "| False | False | True  | False |                  False                  |\n",
      "| False | False | False | True  |                  False                  |\n",
      "| False | False | False | False |                  False                  |\n",
      "+-------+-------+-------+-------+-----------------------------------------+\n",
      "Contingency\n"
     ]
    }
   ],
   "source": [
    "#imports\n",
    "import ttg as _ttg\n",
    "\n",
    "x = _ttg.Truths(['p','q','r','s'], ['((p => ~q) and (~r => s)) and q) => s'],ints=False)\n",
    "print(f'{x}\\n{x.valuation()}\\n\\n')\n",
    "\n",
    "if x.valuation() == \"Tautology\":\n",
    "    print(\"Se caminho pela rua não sou reprovado em lógica......\")\n",
    "    print(\"((p → ~q) ^ (~r => s)) ^ q) → s\")\n"
   ]
  }
 ],
 "metadata": {
  "kernelspec": {
   "display_name": "Python 3",
   "language": "python",
   "name": "python3"
  },
  "language_info": {
   "codemirror_mode": {
    "name": "ipython",
    "version": 3
   },
   "file_extension": ".py",
   "mimetype": "text/x-python",
   "name": "python",
   "nbconvert_exporter": "python",
   "pygments_lexer": "ipython3",
   "version": "3.12.5"
  }
 },
 "nbformat": 4,
 "nbformat_minor": 2
}
